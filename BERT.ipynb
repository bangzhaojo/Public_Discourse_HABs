{
 "cells": [
  {
   "cell_type": "code",
   "execution_count": 1,
   "id": "78f016cb-62ae-4718-8f03-7375a2ded008",
   "metadata": {},
   "outputs": [],
   "source": [
    "from datasets import load_dataset\n",
    "from transformers import BertTokenizer, BertForSequenceClassification, AdamW\n",
    "from transformers import Trainer, TrainingArguments\n",
    "from datasets import load_dataset\n",
    "import numpy as np\n",
    "from sklearn.metrics import accuracy_score, f1_score\n",
    "import torch"
   ]
  },
  {
   "cell_type": "code",
   "execution_count": 2,
   "id": "3f282368-6d82-48d5-a58c-87a8b075bf22",
   "metadata": {},
   "outputs": [],
   "source": [
    "import json\n",
    "from sklearn.model_selection import train_test_split\n",
    "from datasets import Dataset, DatasetDict"
   ]
  },
  {
   "cell_type": "code",
   "execution_count": 3,
   "id": "a98ea5d4-83f2-480c-a3eb-08ad08115f2b",
   "metadata": {},
   "outputs": [],
   "source": [
    "def list_of_dicts_to_dataset(list_of_dicts):\n",
    "    # Initialize a dictionary to hold our reformatted data\n",
    "    data_formatted = {key: [] for key in list_of_dicts[0].keys()}\n",
    "    \n",
    "    # Populate the dictionary with data from list_of_dicts\n",
    "    for item in list_of_dicts:\n",
    "        for key, value in item.items():\n",
    "            data_formatted[key].append(value)\n",
    "            \n",
    "    # Now data_formatted is in the correct format for from_dict\n",
    "    return Dataset.from_dict(data_formatted)"
   ]
  },
  {
   "cell_type": "code",
   "execution_count": 4,
   "id": "e2d4c7a3-6424-45e5-8737-ddae7b1eb797",
   "metadata": {},
   "outputs": [],
   "source": [
    "with open('gpt3.5_10000.json', 'r') as json_file:\n",
    "    data = json.load(json_file)"
   ]
  },
  {
   "cell_type": "code",
   "execution_count": 5,
   "id": "44e8a3dd-a838-4d90-b6d3-4b04578c7a0a",
   "metadata": {},
   "outputs": [],
   "source": [
    "dataset = [{'text':item[0], 'label':item[1]} for item in data]"
   ]
  },
  {
   "cell_type": "code",
   "execution_count": 6,
   "id": "12095aa9-3eb9-4f9c-a335-7f60de47a73f",
   "metadata": {},
   "outputs": [],
   "source": [
    "dataset = [{'text': item['text'], 'label': 1 if item['label'] == 'True' else 0} for item in dataset]"
   ]
  },
  {
   "cell_type": "code",
   "execution_count": 7,
   "id": "0e7fee91-73eb-4dea-88e4-871859939893",
   "metadata": {},
   "outputs": [],
   "source": [
    "train_set, validation_set = train_test_split(dataset, test_size=0.2, random_state=42)"
   ]
  },
  {
   "cell_type": "code",
   "execution_count": 8,
   "id": "859988de-6331-4e60-b024-43165cda298a",
   "metadata": {},
   "outputs": [],
   "source": [
    "train_dataset = list_of_dicts_to_dataset(train_set)\n",
    "validation_dataset = list_of_dicts_to_dataset(validation_set)"
   ]
  },
  {
   "cell_type": "code",
   "execution_count": 9,
   "id": "7d458d46-007f-4d06-9fb3-fd45521975b0",
   "metadata": {},
   "outputs": [],
   "source": [
    "# dataset"
   ]
  },
  {
   "cell_type": "code",
   "execution_count": 10,
   "id": "6f4a1836-5cf8-4787-96ba-baa110f8b80b",
   "metadata": {},
   "outputs": [],
   "source": [
    "# train_set"
   ]
  },
  {
   "cell_type": "code",
   "execution_count": 11,
   "id": "980548fa-f030-445f-97b2-fc4e1ea2d9f1",
   "metadata": {},
   "outputs": [
    {
     "name": "stderr",
     "output_type": "stream",
     "text": [
      "Some weights of BertForSequenceClassification were not initialized from the model checkpoint at bert-large-uncased and are newly initialized: ['classifier.weight', 'classifier.bias']\n",
      "You should probably TRAIN this model on a down-stream task to be able to use it for predictions and inference.\n"
     ]
    }
   ],
   "source": [
    "# Load tokenizer and model\n",
    "tokenizer = BertTokenizer.from_pretrained('bert-large-uncased')\n",
    "model = BertForSequenceClassification.from_pretrained('bert-large-uncased', num_labels=3)"
   ]
  },
  {
   "cell_type": "code",
   "execution_count": 12,
   "id": "119508db-1c6d-439f-9102-73a695381b9c",
   "metadata": {},
   "outputs": [
    {
     "data": {
      "application/vnd.jupyter.widget-view+json": {
       "model_id": "21b37bc5aed14fcdad788b35e9f7b162",
       "version_major": 2,
       "version_minor": 0
      },
      "text/plain": [
       "Map:   0%|          | 0/8000 [00:00<?, ? examples/s]"
      ]
     },
     "metadata": {},
     "output_type": "display_data"
    },
    {
     "data": {
      "application/vnd.jupyter.widget-view+json": {
       "model_id": "61f4b43f61bf4347b04374e803dde4f3",
       "version_major": 2,
       "version_minor": 0
      },
      "text/plain": [
       "Map:   0%|          | 0/2000 [00:00<?, ? examples/s]"
      ]
     },
     "metadata": {},
     "output_type": "display_data"
    }
   ],
   "source": [
    "def tokenize_function(examples):\n",
    "    return tokenizer(examples['text'], padding=\"max_length\", truncation=True)\n",
    "\n",
    "train_dataset = train_dataset.map(tokenize_function, batched=True)\n",
    "val_dataset = validation_dataset.map(tokenize_function, batched=True)"
   ]
  },
  {
   "cell_type": "code",
   "execution_count": 13,
   "id": "965d525e-1543-4b5b-bec3-33fd6fe35d47",
   "metadata": {},
   "outputs": [],
   "source": [
    "def compute_metrics(pred):\n",
    "    # pred.label_ids are the true labels\n",
    "    # pred.predictions are the logits from the model\n",
    "    labels = pred.label_ids\n",
    "    preds = pred.predictions.argmax(-1)  # Convert logits to class predictions\n",
    "\n",
    "    # Calculate accuracy and F1 score\n",
    "    acc = accuracy_score(labels, preds)\n",
    "    f1 = f1_score(labels, preds, average='micro')  # Use 'micro', 'macro', or 'weighted' for multi-class\n",
    "    \n",
    "    return {\n",
    "        'accuracy': acc,\n",
    "        'f1': f1,\n",
    "    }"
   ]
  },
  {
   "cell_type": "code",
   "execution_count": null,
   "id": "a9db4dbc-c1c8-4d2a-a966-1640ac848c04",
   "metadata": {},
   "outputs": [
    {
     "name": "stderr",
     "output_type": "stream",
     "text": [
      "/home/bangzhao/.local/lib/python3.9/site-packages/transformers/optimization.py:411: FutureWarning: This implementation of AdamW is deprecated and will be removed in a future version. Use the PyTorch implementation torch.optim.AdamW instead, or set `no_deprecation_warning=True` to disable this warning\n",
      "  warnings.warn(\n"
     ]
    },
    {
     "data": {
      "text/html": [
       "\n",
       "    <div>\n",
       "      \n",
       "      <progress value='1485' max='3000' style='width:300px; height:20px; vertical-align: middle;'></progress>\n",
       "      [1485/3000 30:54 < 31:34, 0.80 it/s, Epoch 2.97/6]\n",
       "    </div>\n",
       "    <table border=\"1\" class=\"dataframe\">\n",
       "  <thead>\n",
       " <tr style=\"text-align: left;\">\n",
       "      <th>Step</th>\n",
       "      <th>Training Loss</th>\n",
       "    </tr>\n",
       "  </thead>\n",
       "  <tbody>\n",
       "    <tr>\n",
       "      <td>500</td>\n",
       "      <td>0.347100</td>\n",
       "    </tr>\n",
       "    <tr>\n",
       "      <td>1000</td>\n",
       "      <td>0.304400</td>\n",
       "    </tr>\n",
       "  </tbody>\n",
       "</table><p>"
      ],
      "text/plain": [
       "<IPython.core.display.HTML object>"
      ]
     },
     "metadata": {},
     "output_type": "display_data"
    }
   ],
   "source": [
    "# Define training arguments\n",
    "training_args = TrainingArguments(\n",
    "    output_dir='./results',          # output directory for checkpoints\n",
    "    num_train_epochs=6,              # number of training epochs\n",
    "    per_device_train_batch_size=16,   # batch size per device during training\n",
    "    per_device_eval_batch_size=16,    # batch size for evaluation\n",
    "    warmup_steps=50,                # number of warmup steps for learning rate scheduler\n",
    "    weight_decay=0.001,               # strength of weight decay\n",
    "    logging_dir='./logs',            # directory for storing logs\n",
    "    logging_steps=len(train_dataset)//16,\n",
    ")\n",
    "\n",
    "# Initialize Trainer\n",
    "trainer = Trainer(\n",
    "    model=model,\n",
    "    args=training_args,\n",
    "    train_dataset=train_dataset,\n",
    "    eval_dataset=val_dataset,\n",
    "    compute_metrics=compute_metrics\n",
    ")\n",
    "\n",
    "# Train the model\n",
    "trainer.train()"
   ]
  },
  {
   "cell_type": "code",
   "execution_count": null,
   "id": "83b6a447-68da-499f-9839-ce4b07821e25",
   "metadata": {},
   "outputs": [],
   "source": [
    "trainer.evaluate()"
   ]
  },
  {
   "cell_type": "code",
   "execution_count": null,
   "id": "3c97f32d-c351-4a50-8adc-41623ef9f445",
   "metadata": {},
   "outputs": [],
   "source": [
    "model_path = \"models/bert-large\"\n",
    "\n",
    "# Save the model and the tokenizer\n",
    "model.save_pretrained(model_path)"
   ]
  },
  {
   "cell_type": "code",
   "execution_count": null,
   "id": "1c9c6899-5ca9-4e9c-a1d4-11101a27db90",
   "metadata": {},
   "outputs": [],
   "source": []
  }
 ],
 "metadata": {
  "kernelspec": {
   "display_name": "Python 3 (ipykernel)",
   "language": "python",
   "name": "python3"
  },
  "language_info": {
   "codemirror_mode": {
    "name": "ipython",
    "version": 3
   },
   "file_extension": ".py",
   "mimetype": "text/x-python",
   "name": "python",
   "nbconvert_exporter": "python",
   "pygments_lexer": "ipython3",
   "version": "3.9.19"
  }
 },
 "nbformat": 4,
 "nbformat_minor": 5
}
