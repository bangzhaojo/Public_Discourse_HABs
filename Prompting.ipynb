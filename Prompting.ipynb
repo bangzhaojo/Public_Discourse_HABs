{
 "cells": [
  {
   "cell_type": "code",
   "execution_count": 1,
   "id": "d8c77200-58be-4158-9eb6-813a9d334f03",
   "metadata": {},
   "outputs": [],
   "source": [
    "from transformers import LlamaTokenizer, LlamaForCausalLM\n",
    "import torch"
   ]
  },
  {
   "cell_type": "code",
   "execution_count": 2,
   "id": "af60f0cd-76a5-479b-9e75-6c7c905f50c0",
   "metadata": {},
   "outputs": [
    {
     "data": {
      "application/vnd.jupyter.widget-view+json": {
       "model_id": "7e371e5e0f034e368f5bb292508efca2",
       "version_major": 2,
       "version_minor": 0
      },
      "text/plain": [
       "Loading checkpoint shards:   0%|          | 0/2 [00:00<?, ?it/s]"
      ]
     },
     "metadata": {},
     "output_type": "display_data"
    }
   ],
   "source": [
    "BASE_MODEL = r\"/shared/4/models/llama2/llama-2-70b-chat\"\n",
    "\n",
    "model = LlamaForCausalLM.from_pretrained(\n",
    "    BASE_MODEL,\n",
    "    load_in_8bit=True,\n",
    "    torch_dtype=torch.float16,\n",
    "    device_map=\"auto\",\n",
    ")\n",
    "\n",
    "tokenizer = LlamaTokenizer.from_pretrained(r\"/shared/4/models/llama2/\")"
   ]
  },
  {
   "cell_type": "code",
   "execution_count": 14,
   "id": "4cb1d002-cda0-4e39-b155-bd8815156329",
   "metadata": {},
   "outputs": [],
   "source": [
    "# Encoding the input text\n",
    "prompt = \"The future of AI is\"\n",
    "\n",
    "input_ids = tokenizer(prompt, return_tensors=\"pt\")[\"input_ids\"]"
   ]
  },
  {
   "cell_type": "code",
   "execution_count": 19,
   "id": "235641bf-b4c6-4be8-a5f3-dd792b119eab",
   "metadata": {},
   "outputs": [],
   "source": [
    "response = model.generate(\n",
    "    input_ids=input_ids,\n",
    "    max_new_tokens=128,  # Assuming 128 is the desired maximum length\n",
    "    temperature=0.1,\n",
    "    top_p=0.75,\n",
    "    repetition_penalty=1.1,\n",
    "    #pad_token_id=tokenizer.eos_token_id,  # Ensure padding with the EOS token\n",
    "    return_dict_in_generate=True,\n",
    "    output_scores=True\n",
    "    )"
   ]
  },
  {
   "cell_type": "code",
   "execution_count": 24,
   "id": "8f389e84-f0d5-47e1-bb1b-133173fcabec",
   "metadata": {},
   "outputs": [
    {
     "data": {
      "text/plain": [
       "'The future of AI is in the hands of the people\\nThe future of artificial intelligence (AI) is in the hands of the people. That’s according to a new report from the World Economic Forum, which found that 85% of business leaders believe that AI will have a positive impact on society and the economy over the next decade. However, only 37% of respondents said they were confident about their ability to manage the risks associated with AI.\\nThe report also found that there is a significant gap between what businesses are doing now and what they need to do in order to be successful in the future.'"
      ]
     },
     "execution_count": 24,
     "metadata": {},
     "output_type": "execute_result"
    }
   ],
   "source": [
    "generated_text = tokenizer.decode(response.sequences[0], skip_special_tokens=True)\n",
    "generated_text"
   ]
  },
  {
   "cell_type": "markdown",
   "id": "3abe5ddd-8dd1-4548-893a-a1670e3c7b20",
   "metadata": {},
   "source": [
    "### Zero-shot"
   ]
  },
  {
   "cell_type": "code",
   "execution_count": 74,
   "id": "e6d508ec-0188-4fe0-b0fa-49c34a846931",
   "metadata": {},
   "outputs": [],
   "source": [
    "prompt_format = \"\"\"\n",
    "### Instruction:\n",
    "What is the stance of the tweet below with respect to 'Legalization of Abortion'? If we can infer from the tweet that the tweeter supports 'Legalization of Abortion', please label it as 'in-favor'. \\\n",
    "If we can infer from the tweet that the tweeter is against 'Legalization of Abortion', please label is as 'against'. \\\n",
    "If we can infer from the tweet that the tweeter has a neutral stance towards 'Legalization of Abortion', please label it as 'none'. \\\n",
    "If there is no clue in the tweet to reveal the stance of the tweeter towards 'Legalization of Abortion', please also label is as 'none'. \\\n",
    "Please use exactly one word from the following 3 categories to label it: 'in-favor', 'against', 'neutral-or-unclear'. \n",
    "\n",
    "### Tweet: \n",
    "i really don't understand how some people are pro-choice. a life is a life no matter if it's 2 weeks old or 20 years old. \n",
    "\n",
    "### Response:\n",
    "\"\"\""
   ]
  },
  {
   "cell_type": "code",
   "execution_count": 75,
   "id": "5e9af450-6912-4541-895c-8593f4e7cb85",
   "metadata": {},
   "outputs": [],
   "source": [
    "input_ids = tokenizer(prompt_format, return_tensors=\"pt\")[\"input_ids\"]"
   ]
  },
  {
   "cell_type": "code",
   "execution_count": 76,
   "id": "ce2a9fb4-ce4c-4779-8e48-6a2051ff8f33",
   "metadata": {},
   "outputs": [],
   "source": [
    "response = model.generate(\n",
    "    input_ids=input_ids,\n",
    "    max_new_tokens=16,  # Assuming 128 is the desired maximum length\n",
    "    temperature=0,\n",
    "    top_p=0.75,\n",
    "    repetition_penalty=1.1,\n",
    "    #pad_token_id=tokenizer.eos_token_id,  # Ensure padding with the EOS token\n",
    "    return_dict_in_generate=True,\n",
    "    output_scores=True\n",
    "    )"
   ]
  },
  {
   "cell_type": "code",
   "execution_count": 77,
   "id": "6ba29d65-6b31-4eff-bc6b-37d1416324de",
   "metadata": {},
   "outputs": [
    {
     "name": "stdout",
     "output_type": "stream",
     "text": [
      "\n",
      "### Instruction:\n",
      "What is the stance of the tweet below with respect to 'Legalization of Abortion'? If we can infer from the tweet that the tweeter supports 'Legalization of Abortion', please label it as 'in-favor'. If we can infer from the tweet that the tweeter is against 'Legalization of Abortion', please label is as 'against'. If we can infer from the tweet that the tweeter has a neutral stance towards 'Legalization of Abortion', please label it as 'none'. If there is no clue in the tweet to reveal the stance of the tweeter towards 'Legalization of Abortion', please also label is as 'none'. Please use exactly one word from the following 3 categories to label it: 'in-favor', 'against', 'neutral-or-unclear'. \n",
      "\n",
      "### Tweet: \n",
      "i really don't understand how some people are pro-choice. a life is a life no matter if it's 2 weeks old or 20 years old. \n",
      "\n",
      "### Response:\n",
      "- 'in-favor'\n",
      "- 'against'\n",
      "-\n"
     ]
    }
   ],
   "source": [
    "generated_text = tokenizer.decode(response.sequences[0], skip_special_tokens=True)\n",
    "print(generated_text)"
   ]
  },
  {
   "cell_type": "markdown",
   "id": "9524c9d3-4b5f-4ea3-8a04-2019a1969ed9",
   "metadata": {},
   "source": [
    "### Few-shot"
   ]
  },
  {
   "cell_type": "code",
   "execution_count": 78,
   "id": "23544428-acc5-4cfd-ac9c-78a2424d26f2",
   "metadata": {},
   "outputs": [],
   "source": [
    "prompt_format = \"\"\"\n",
    "### Instruction:\n",
    "What is the stance of the tweet below with respect to 'Legalization of Abortion'? If we can infer from the tweet that the tweeter supports 'Legalization of Abortion', please label it as 'in-favor'. \\\n",
    "If we can infer from the tweet that the tweeter is against 'Legalization of Abortion', please label is as 'against'. \\\n",
    "If we can infer from the tweet that the tweeter has a neutral stance towards 'Legalization of Abortion', please label it as 'none'. \\\n",
    "If there is no clue in the tweet to reveal the stance of the tweeter towards 'Legalization of Abortion', please also label is as 'none'. \\\n",
    "Please use exactly one word from the following 3 categories to label it: 'in-favor', 'against', 'neutral-or-unclear'. \n",
    "\n",
    "### Tweet: \n",
    "Everyone deserves the right to make decisions about their own bodies and futures.\n",
    "\n",
    "### Response:\n",
    "in-favor\n",
    "\n",
    "### Tweet: \n",
    "Life begins at conception, and every life has inherent value and the right to be protected. Abortion undermines this principle by ending an innocent life. \n",
    "\n",
    "### Response:\n",
    "against\n",
    "\n",
    "### Tweet: \n",
    "I believe that abortion is a deeply personal and complex issue, so why do we care?\n",
    "\n",
    "### Response:\n",
    "none\n",
    "\n",
    "### Tweet:\n",
    "i really don't understand how some people are pro-choice. a life is a life no matter if it's 2 weeks old or 20 years old. \n",
    "\"\"\""
   ]
  },
  {
   "cell_type": "code",
   "execution_count": 79,
   "id": "182256b1-775d-4f29-bc20-02fa1f32d5b7",
   "metadata": {},
   "outputs": [],
   "source": [
    "input_ids = tokenizer(prompt_format, return_tensors=\"pt\")[\"input_ids\"]"
   ]
  },
  {
   "cell_type": "code",
   "execution_count": 80,
   "id": "93c76d57-f4bc-475a-911d-aa2860c7490e",
   "metadata": {},
   "outputs": [],
   "source": [
    "response = model.generate(\n",
    "    input_ids=input_ids,\n",
    "    max_new_tokens=16,  # Assuming 128 is the desired maximum length\n",
    "    temperature=0,\n",
    "    top_p=0.75,\n",
    "    repetition_penalty=1.1,\n",
    "    #pad_token_id=tokenizer.eos_token_id,  # Ensure padding with the EOS token\n",
    "    return_dict_in_generate=True,\n",
    "    output_scores=True\n",
    "    )"
   ]
  },
  {
   "cell_type": "code",
   "execution_count": 81,
   "id": "f70871b3-9a9f-418f-8cf7-01c18a141443",
   "metadata": {},
   "outputs": [
    {
     "name": "stdout",
     "output_type": "stream",
     "text": [
      "\n",
      "### Instruction:\n",
      "What is the stance of the tweet below with respect to 'Legalization of Abortion'? If we can infer from the tweet that the tweeter supports 'Legalization of Abortion', please label it as 'in-favor'. If we can infer from the tweet that the tweeter is against 'Legalization of Abortion', please label is as 'against'. If we can infer from the tweet that the tweeter has a neutral stance towards 'Legalization of Abortion', please label it as 'none'. If there is no clue in the tweet to reveal the stance of the tweeter towards 'Legalization of Abortion', please also label is as 'none'. Please use exactly one word from the following 3 categories to label it: 'in-favor', 'against', 'neutral-or-unclear'. \n",
      "\n",
      "### Tweet: \n",
      "Everyone deserves the right to make decisions about their own bodies and futures.\n",
      "\n",
      "### Response:\n",
      "in-favor\n",
      "\n",
      "### Tweet: \n",
      "Life begins at conception, and every life has inherent value and the right to be protected. Abortion undermines this principle by ending an innocent life. \n",
      "\n",
      "### Response:\n",
      "against\n",
      "\n",
      "### Tweet: \n",
      "I believe that abortion is a deeply personal and complex issue, so why do we care?\n",
      "\n",
      "### Response:\n",
      "none\n",
      "\n",
      "### Tweet:\n",
      "i really don't understand how some people are pro-choice. a life is a life no matter if it's 2 weeks old or 20 years old. \n",
      "\n",
      "### Response:\n",
      "against\n",
      "\n",
      "### Tweet:\n"
     ]
    }
   ],
   "source": [
    "generated_text = tokenizer.decode(response.sequences[0], skip_special_tokens=True)\n",
    "print(generated_text)"
   ]
  },
  {
   "cell_type": "code",
   "execution_count": null,
   "id": "11427ef6-3809-4a22-af8b-7b4f5ec6fba7",
   "metadata": {},
   "outputs": [],
   "source": []
  }
 ],
 "metadata": {
  "kernelspec": {
   "display_name": "Python 3 (ipykernel)",
   "language": "python",
   "name": "python3"
  },
  "language_info": {
   "codemirror_mode": {
    "name": "ipython",
    "version": 3
   },
   "file_extension": ".py",
   "mimetype": "text/x-python",
   "name": "python",
   "nbconvert_exporter": "python",
   "pygments_lexer": "ipython3",
   "version": "3.9.12"
  }
 },
 "nbformat": 4,
 "nbformat_minor": 5
}
